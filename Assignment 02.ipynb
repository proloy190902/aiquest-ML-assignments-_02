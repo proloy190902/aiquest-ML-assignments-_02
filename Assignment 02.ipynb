{
 "cells": [
  {
   "cell_type": "markdown",
   "id": "b3386523",
   "metadata": {},
   "source": [
    "# Variable in python"
   ]
  },
  {
   "cell_type": "code",
   "execution_count": 1,
   "id": "49eb9f93",
   "metadata": {},
   "outputs": [
    {
     "name": "stdout",
     "output_type": "stream",
     "text": [
      "5\n"
     ]
    }
   ],
   "source": [
    "a=5    #integer type variable\n",
    "print(a)"
   ]
  },
  {
   "cell_type": "code",
   "execution_count": 2,
   "id": "a75a89e3",
   "metadata": {},
   "outputs": [
    {
     "name": "stdout",
     "output_type": "stream",
     "text": [
      "Hello World\n"
     ]
    }
   ],
   "source": [
    "a='Hello World'  #string type variable\n",
    "print(a)"
   ]
  },
  {
   "cell_type": "code",
   "execution_count": 3,
   "id": "2e086a52",
   "metadata": {},
   "outputs": [
    {
     "name": "stdout",
     "output_type": "stream",
     "text": [
      "1100\n"
     ]
    }
   ],
   "source": [
    "x=1000\n",
    "var=100\n",
    "var=var + x\n",
    "print(var)"
   ]
  },
  {
   "cell_type": "code",
   "execution_count": 5,
   "id": "6a862880",
   "metadata": {},
   "outputs": [
    {
     "data": {
      "text/plain": [
       "2100"
      ]
     },
     "execution_count": 5,
     "metadata": {},
     "output_type": "execute_result"
    }
   ],
   "source": [
    "var+x"
   ]
  },
  {
   "cell_type": "code",
   "execution_count": 6,
   "id": "6e6b650e",
   "metadata": {},
   "outputs": [
    {
     "name": "stdout",
     "output_type": "stream",
     "text": [
      "Python\n"
     ]
    }
   ],
   "source": [
    "a=5\n",
    "a=4.7\n",
    "a='Python'\n",
    "print(a)"
   ]
  },
  {
   "cell_type": "code",
   "execution_count": 9,
   "id": "0d8278d6",
   "metadata": {},
   "outputs": [
    {
     "name": "stdout",
     "output_type": "stream",
     "text": [
      "5\n"
     ]
    }
   ],
   "source": [
    "a=5\n",
    "b=float(a)\n",
    "print(a)"
   ]
  },
  {
   "cell_type": "code",
   "execution_count": 10,
   "id": "10b1803b",
   "metadata": {},
   "outputs": [
    {
     "name": "stdout",
     "output_type": "stream",
     "text": [
      "5.0\n"
     ]
    }
   ],
   "source": [
    "print(b)"
   ]
  },
  {
   "cell_type": "code",
   "execution_count": null,
   "id": "3dcc64e4",
   "metadata": {},
   "outputs": [],
   "source": [
    "#variable names are case sensitive\n",
    "#letter or underscore can't start with a number \n",
    "#contains only number,letters and underscore"
   ]
  },
  {
   "cell_type": "code",
   "execution_count": 12,
   "id": "4424f193",
   "metadata": {},
   "outputs": [
    {
     "data": {
      "text/plain": [
       "2849779754416"
      ]
     },
     "execution_count": 12,
     "metadata": {},
     "output_type": "execute_result"
    }
   ],
   "source": [
    "id(var) # address"
   ]
  },
  {
   "cell_type": "code",
   "execution_count": 13,
   "id": "84977aed",
   "metadata": {},
   "outputs": [
    {
     "data": {
      "text/plain": [
       "'proloy Kumar Mondal'"
      ]
     },
     "execution_count": 13,
     "metadata": {},
     "output_type": "execute_result"
    }
   ],
   "source": [
    "name=\"proloy Kumar Mondal\"\n",
    "name"
   ]
  },
  {
   "cell_type": "code",
   "execution_count": 16,
   "id": "c7b94829",
   "metadata": {},
   "outputs": [
    {
     "data": {
      "text/plain": [
       "'proloy'"
      ]
     },
     "execution_count": 16,
     "metadata": {},
     "output_type": "execute_result"
    }
   ],
   "source": [
    "for_name=\"proloy\"\n",
    "for_name"
   ]
  },
  {
   "cell_type": "code",
   "execution_count": 17,
   "id": "46f50a1f",
   "metadata": {},
   "outputs": [
    {
     "ename": "SyntaxError",
     "evalue": "cannot assign to expression here. Maybe you meant '==' instead of '='? (3093705906.py, line 1)",
     "output_type": "error",
     "traceback": [
      "\u001b[1;36m  Input \u001b[1;32mIn [17]\u001b[1;36m\u001b[0m\n\u001b[1;33m    my-name=\"Proloy\"\u001b[0m\n\u001b[1;37m    ^\u001b[0m\n\u001b[1;31mSyntaxError\u001b[0m\u001b[1;31m:\u001b[0m cannot assign to expression here. Maybe you meant '==' instead of '='?\n"
     ]
    }
   ],
   "source": [
    "my-name=\"Proloy\" #can not use hypen in variable\n",
    "my-name"
   ]
  },
  {
   "cell_type": "code",
   "execution_count": 18,
   "id": "efeb7906",
   "metadata": {},
   "outputs": [],
   "source": [
    "x,y,z=100,200,300"
   ]
  },
  {
   "cell_type": "code",
   "execution_count": 19,
   "id": "213968c6",
   "metadata": {},
   "outputs": [
    {
     "data": {
      "text/plain": [
       "100"
      ]
     },
     "execution_count": 19,
     "metadata": {},
     "output_type": "execute_result"
    }
   ],
   "source": [
    "x\n"
   ]
  },
  {
   "cell_type": "code",
   "execution_count": 20,
   "id": "4f49b0d4",
   "metadata": {},
   "outputs": [
    {
     "data": {
      "text/plain": [
       "200"
      ]
     },
     "execution_count": 20,
     "metadata": {},
     "output_type": "execute_result"
    }
   ],
   "source": [
    "y"
   ]
  },
  {
   "cell_type": "code",
   "execution_count": 21,
   "id": "54e6487e",
   "metadata": {},
   "outputs": [
    {
     "data": {
      "text/plain": [
       "300"
      ]
     },
     "execution_count": 21,
     "metadata": {},
     "output_type": "execute_result"
    }
   ],
   "source": [
    "z"
   ]
  },
  {
   "cell_type": "code",
   "execution_count": 25,
   "id": "8505de1e",
   "metadata": {},
   "outputs": [
    {
     "ename": "ValueError",
     "evalue": "not enough values to unpack (expected 3, got 2)",
     "output_type": "error",
     "traceback": [
      "\u001b[1;31m---------------------------------------------------------------------------\u001b[0m",
      "\u001b[1;31mValueError\u001b[0m                                Traceback (most recent call last)",
      "Input \u001b[1;32mIn [25]\u001b[0m, in \u001b[0;36m<cell line: 1>\u001b[1;34m()\u001b[0m\n\u001b[1;32m----> 1\u001b[0m x,y,z\u001b[38;5;241m=\u001b[39m\u001b[38;5;241m100\u001b[39m,\u001b[38;5;241m200\u001b[39m\n",
      "\u001b[1;31mValueError\u001b[0m: not enough values to unpack (expected 3, got 2)"
     ]
    }
   ],
   "source": [
    "x,y,z=100,200"
   ]
  },
  {
   "cell_type": "code",
   "execution_count": 27,
   "id": "318a3d88",
   "metadata": {},
   "outputs": [
    {
     "data": {
      "text/plain": [
       "100"
      ]
     },
     "execution_count": 27,
     "metadata": {},
     "output_type": "execute_result"
    }
   ],
   "source": [
    "x,y,=100,200 \n",
    "x"
   ]
  },
  {
   "cell_type": "markdown",
   "id": "dedb25d7",
   "metadata": {},
   "source": [
    "# Global and local Variavle"
   ]
  },
  {
   "cell_type": "code",
   "execution_count": 28,
   "id": "6c122b2f",
   "metadata": {},
   "outputs": [
    {
     "name": "stdout",
     "output_type": "stream",
     "text": [
      "This is me I have priented\n"
     ]
    }
   ],
   "source": [
    "def function1(n):\n",
    "    print(n,\"I have priented\")\n",
    "function1(\"This is me\")"
   ]
  },
  {
   "cell_type": "code",
   "execution_count": 32,
   "id": "60c5ec76",
   "metadata": {},
   "outputs": [
    {
     "name": "stdout",
     "output_type": "stream",
     "text": [
      "5 8\n",
      "This is me I have priented\n"
     ]
    }
   ],
   "source": [
    "l=10  #global VAriable\n",
    "def function1(n):\n",
    "    l=5  #local\n",
    "    m=8  #local\n",
    "    print(l,m)\n",
    "    print(n,\"I have priented\")\n",
    "function1(\"This is me\")\n",
    "\n",
    "#print(l)"
   ]
  },
  {
   "cell_type": "code",
   "execution_count": 36,
   "id": "269f4de1",
   "metadata": {},
   "outputs": [
    {
     "name": "stdout",
     "output_type": "stream",
     "text": [
      "This is me: Proloy\n",
      "This is 3: Proloy\n",
      "This is 2: Proloy\n"
     ]
    }
   ],
   "source": [
    "def myfunction1():\n",
    "    global x\n",
    "    x = \"Proloy\" # global\n",
    "    print('This is me:',x)\n",
    "  \n",
    "myfunction1()\n",
    "\n",
    "print('This is 3:',x)\n",
    "\n",
    "print('This is 2:',x)"
   ]
  },
  {
   "cell_type": "code",
   "execution_count": 37,
   "id": "245c1554",
   "metadata": {},
   "outputs": [
    {
     "ename": "NameError",
     "evalue": "name 'NAME' is not defined",
     "output_type": "error",
     "traceback": [
      "\u001b[1;31m---------------------------------------------------------------------------\u001b[0m",
      "\u001b[1;31mNameError\u001b[0m                                 Traceback (most recent call last)",
      "Input \u001b[1;32mIn [37]\u001b[0m, in \u001b[0;36m<cell line: 2>\u001b[1;34m()\u001b[0m\n\u001b[0;32m      1\u001b[0m name\u001b[38;5;241m=\u001b[39m\u001b[38;5;124m\"\u001b[39m\u001b[38;5;124mMy name is Proloy\u001b[39m\u001b[38;5;124m\"\u001b[39m\n\u001b[1;32m----> 2\u001b[0m \u001b[43mNAME\u001b[49m\n",
      "\u001b[1;31mNameError\u001b[0m: name 'NAME' is not defined"
     ]
    }
   ],
   "source": [
    "name=\"My name is Proloy\"\n",
    "NAME"
   ]
  },
  {
   "cell_type": "code",
   "execution_count": 38,
   "id": "078c668b",
   "metadata": {},
   "outputs": [
    {
     "data": {
      "text/plain": [
       "'My name is Proloy'"
      ]
     },
     "execution_count": 38,
     "metadata": {},
     "output_type": "execute_result"
    }
   ],
   "source": [
    "name"
   ]
  },
  {
   "cell_type": "code",
   "execution_count": 40,
   "id": "79fea9a7",
   "metadata": {},
   "outputs": [
    {
     "data": {
      "text/plain": [
       "['My', 'name', 'is', 'Proloy']"
      ]
     },
     "execution_count": 40,
     "metadata": {},
     "output_type": "execute_result"
    }
   ],
   "source": [
    "name.split()"
   ]
  },
  {
   "cell_type": "code",
   "execution_count": 42,
   "id": "a4ff384f",
   "metadata": {},
   "outputs": [
    {
     "data": {
      "text/plain": [
       "'MY NAME IS PROLOY'"
      ]
     },
     "execution_count": 42,
     "metadata": {},
     "output_type": "execute_result"
    }
   ],
   "source": [
    "name.upper()"
   ]
  },
  {
   "cell_type": "markdown",
   "id": "848696c8",
   "metadata": {},
   "source": [
    "# if else condition"
   ]
  },
  {
   "cell_type": "code",
   "execution_count": 1,
   "id": "c07558d1",
   "metadata": {},
   "outputs": [
    {
     "name": "stdout",
     "output_type": "stream",
     "text": [
      "10\n",
      "Not None\n",
      "<class 'bool'>\n",
      "20 is big\n"
     ]
    }
   ],
   "source": [
    "a=None\n",
    "a=10\n",
    "print(a)\n",
    "if a==None:\n",
    "    print(\"Yes None\")\n",
    "else:\n",
    "    print(\"Not None\")\n",
    "#Boolean\n",
    "print(type(10>20))\n",
    "\n",
    "if 20>10:\n",
    "    print(\"20 is big\")\n",
    "else:\n",
    "    print(\"20 is small\")"
   ]
  },
  {
   "cell_type": "code",
   "execution_count": 3,
   "id": "8cbb33c2",
   "metadata": {},
   "outputs": [
    {
     "name": "stdout",
     "output_type": "stream",
     "text": [
      "The value of a is greater than 7\n"
     ]
    }
   ],
   "source": [
    "a = 8\n",
    "\n",
    "#if-elif-else ladder in Python\n",
    "if(a<3): \n",
    "    print(\"The value of a is greater than 3\")\n",
    "elif(a>13):\n",
    "    print(\"The value of a is greater than 13\")\n",
    "elif(a>7):\n",
    "    print(\"The value of a is greater than 7\")\n",
    "elif(a>17):\n",
    "    print(\"The value of a is greater than 17\")\n",
    "else:\n",
    "    print(\"The value is not greater than 3 or 7\")\n"
   ]
  },
  {
   "cell_type": "code",
   "execution_count": 4,
   "id": "5e476a29",
   "metadata": {},
   "outputs": [
    {
     "name": "stdout",
     "output_type": "stream",
     "text": [
      "The value of a is greater than 7\n",
      "The value is not greater than 3 or 7\n",
      "Done\n"
     ]
    }
   ],
   "source": [
    "if(a<3): \n",
    "    print(\"The value of a is greater than 3\")\n",
    "\n",
    "if(a>13):\n",
    "    print(\"The value of a is greater than 13\")\n",
    "    \n",
    "if(a>7):\n",
    "    print(\"The value of a is greater than 7\")\n",
    "\n",
    "if(a>17):\n",
    "    print(\"The value of a is greater than 17\")\n",
    "else:\n",
    "    print(\"The value is not greater than 3 or 7\")\n",
    "\n",
    "print(\"Done\")"
   ]
  },
  {
   "cell_type": "code",
   "execution_count": 5,
   "id": "34a42395",
   "metadata": {},
   "outputs": [
    {
     "name": "stdout",
     "output_type": "stream",
     "text": [
      "Enter your age: 19\n",
      "Yes\n"
     ]
    }
   ],
   "source": [
    "age = int(input(\"Enter your age: \"))\n",
    "\n",
    "if age>18:\n",
    "    print(\"Yes\")\n",
    "else:\n",
    "    print(\"No\")"
   ]
  },
  {
   "cell_type": "code",
   "execution_count": 10,
   "id": "1b4e1245",
   "metadata": {},
   "outputs": [
    {
     "name": "stdout",
     "output_type": "stream",
     "text": [
      "Enter your age: 1\n",
      "You can work with us\n"
     ]
    }
   ],
   "source": [
    "age = int(input(\"Enter your age: \"))\n",
    "if(age>34 or age<56):\n",
    "    print(\"You can work with us\")\n",
    "\n",
    "else:\n",
    "    print(\"You cannot work with us\")"
   ]
  },
  {
   "cell_type": "code",
   "execution_count": 11,
   "id": "a506e3c6",
   "metadata": {},
   "outputs": [
    {
     "name": "stdout",
     "output_type": "stream",
     "text": [
      "I am optional\n"
     ]
    }
   ],
   "source": [
    "a = 6\n",
    "if(a==7):\n",
    "    print(\"yes\")\n",
    "elif(a>56):\n",
    "    print(\"no and yes\")\n",
    "else:\n",
    "    print(\"I am optional\")"
   ]
  },
  {
   "cell_type": "code",
   "execution_count": 12,
   "id": "c7a379c9",
   "metadata": {},
   "outputs": [
    {
     "name": "stdout",
     "output_type": "stream",
     "text": [
      "Enter number 1: 100\n",
      "Enter number 2: 300\n",
      "Enter number 3: 500\n",
      "Enter number 4: 60\n",
      "500 is greatest\n"
     ]
    }
   ],
   "source": [
    "num1 = int(input(\"Enter number 1: \"))\n",
    "num2 = int(input(\"Enter number 2: \"))\n",
    "num3 = int(input(\"Enter number 3: \"))\n",
    "num4 = int(input(\"Enter number 4: \"))\n",
    "\n",
    "if(num1>num4):\n",
    "    f1 = num1\n",
    "else:\n",
    "    f1 = num4\n",
    "\n",
    "if(num2>num3):\n",
    "    f2 = num2\n",
    "else:\n",
    "    f2 = num3\n",
    "\n",
    "if(f1>f2):\n",
    "    print(str(f1) + \" is greatest\")\n",
    "else:\n",
    "    print(str(f2) + \" is greatest\")"
   ]
  },
  {
   "cell_type": "markdown",
   "id": "fb099b0e",
   "metadata": {},
   "source": [
    "# Loops in python"
   ]
  },
  {
   "cell_type": "code",
   "execution_count": 15,
   "id": "4a88da71",
   "metadata": {},
   "outputs": [
    {
     "name": "stdout",
     "output_type": "stream",
     "text": [
      "Yes, my name is proloy \n",
      "Yes, my name is proloy \n",
      "Yes, my name is proloy \n",
      "Yes, my name is proloy \n",
      "Yes, my name is proloy \n",
      "Yes, my name is proloy \n",
      "Yes, my name is proloy \n",
      "Yes, my name is proloy \n",
      "Yes, my name is proloy \n",
      "Yes, my name is proloy \n",
      "Done\n"
     ]
    }
   ],
   "source": [
    "i = 0\n",
    "while i<10:\n",
    "    print(\"Yes, my name is proloy \" )\n",
    "    i = i + 1\n",
    "\n",
    "print(\"Done\")"
   ]
  },
  {
   "cell_type": "code",
   "execution_count": 16,
   "id": "a616aecd",
   "metadata": {},
   "outputs": [
    {
     "name": "stdout",
     "output_type": "stream",
     "text": [
      "1\n",
      "2\n",
      "3\n",
      "4\n",
      "5\n",
      "6\n",
      "7\n",
      "8\n",
      "9\n",
      "10\n",
      "11\n",
      "12\n",
      "13\n",
      "14\n",
      "15\n",
      "16\n",
      "17\n",
      "18\n",
      "19\n",
      "20\n",
      "21\n",
      "22\n",
      "23\n",
      "24\n",
      "25\n",
      "26\n",
      "27\n",
      "28\n",
      "29\n",
      "30\n",
      "31\n",
      "32\n",
      "33\n",
      "34\n",
      "35\n",
      "36\n",
      "37\n",
      "38\n",
      "39\n",
      "40\n",
      "41\n",
      "42\n",
      "43\n",
      "44\n",
      "45\n",
      "46\n",
      "47\n",
      "48\n",
      "49\n",
      "50\n"
     ]
    }
   ],
   "source": [
    "i = 1\n",
    "\n",
    "while i<=50:\n",
    "    print(i)\n",
    "    i = i + 1\n"
   ]
  },
  {
   "cell_type": "code",
   "execution_count": 17,
   "id": "54fc2040",
   "metadata": {},
   "outputs": [
    {
     "name": "stdout",
     "output_type": "stream",
     "text": [
      "Banana\n",
      "Watermelon\n",
      "Grapes\n",
      "Mangoes\n"
     ]
    }
   ],
   "source": [
    "fruits = ['Banana', 'Watermelon', 'Grapes', 'Mangoes']\n",
    "i = 0\n",
    "while i<len(fruits):\n",
    "    print(fruits[i])\n",
    "    i = i+1"
   ]
  },
  {
   "cell_type": "code",
   "execution_count": 18,
   "id": "1626397b",
   "metadata": {},
   "outputs": [
    {
     "name": "stdout",
     "output_type": "stream",
     "text": [
      "Banana\n",
      "Watermelon\n",
      "Grapes\n",
      "Mangoes\n"
     ]
    }
   ],
   "source": [
    "fruits = ['Banana', 'Watermelon', 'Grapes', 'Mangoes']\n",
    "for i in fruits:\n",
    "    print(i)"
   ]
  },
  {
   "cell_type": "code",
   "execution_count": 20,
   "id": "5af93836",
   "metadata": {},
   "outputs": [
    {
     "name": "stdout",
     "output_type": "stream",
     "text": [
      "proloy\n",
      "Probir\n",
      "Pkm\n",
      "Pk\n"
     ]
    }
   ],
   "source": [
    "name = ['proloy', 'Probir', 'Pkm', 'Pk']\n",
    "\n",
    "for item in name:\n",
    "    print(item)"
   ]
  },
  {
   "cell_type": "code",
   "execution_count": 21,
   "id": "350d3574",
   "metadata": {},
   "outputs": [
    {
     "name": "stdout",
     "output_type": "stream",
     "text": [
      "1\n",
      "2\n",
      "3\n",
      "4\n",
      "5\n",
      "6\n",
      "7\n"
     ]
    }
   ],
   "source": [
    "for i in range(1, 8, 1):\n",
    "    print(i)"
   ]
  },
  {
   "cell_type": "code",
   "execution_count": 22,
   "id": "28fb0562",
   "metadata": {},
   "outputs": [
    {
     "name": "stdout",
     "output_type": "stream",
     "text": [
      "0\n",
      "1\n",
      "2\n",
      "3\n",
      "4\n",
      "5\n",
      "6\n",
      "7\n",
      "8\n",
      "9\n",
      "This is inside else of for\n"
     ]
    }
   ],
   "source": [
    "for i in range(10):\n",
    "    print(i)\n",
    "else:\n",
    "    print(\"This is inside else of for\")"
   ]
  },
  {
   "cell_type": "code",
   "execution_count": 23,
   "id": "6fe64014",
   "metadata": {},
   "outputs": [
    {
     "name": "stdout",
     "output_type": "stream",
     "text": [
      "proloy 0\n",
      "kumar 1\n",
      "Mondal 2\n"
     ]
    }
   ],
   "source": [
    "x = ['proloy','kumar','Mondal']\n",
    "\n",
    "for y in range(len(x)):\n",
    "    print(x[y],y)"
   ]
  },
  {
   "cell_type": "code",
   "execution_count": 24,
   "id": "bbb36446",
   "metadata": {},
   "outputs": [
    {
     "name": "stdout",
     "output_type": "stream",
     "text": [
      "3\n",
      "5\n",
      "7\n",
      "9\n"
     ]
    }
   ],
   "source": [
    "for x in range(3,10,2): \n",
    "    print(x)"
   ]
  },
  {
   "cell_type": "code",
   "execution_count": null,
   "id": "b8f65e54",
   "metadata": {},
   "outputs": [],
   "source": []
  },
  {
   "cell_type": "code",
   "execution_count": null,
   "id": "a760a2af",
   "metadata": {},
   "outputs": [],
   "source": []
  }
 ],
 "metadata": {
  "kernelspec": {
   "display_name": "Python 3 (ipykernel)",
   "language": "python",
   "name": "python3"
  },
  "language_info": {
   "codemirror_mode": {
    "name": "ipython",
    "version": 3
   },
   "file_extension": ".py",
   "mimetype": "text/x-python",
   "name": "python",
   "nbconvert_exporter": "python",
   "pygments_lexer": "ipython3",
   "version": "3.10.4"
  }
 },
 "nbformat": 4,
 "nbformat_minor": 5
}
